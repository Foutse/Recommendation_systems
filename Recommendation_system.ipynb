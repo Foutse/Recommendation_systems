{
  "nbformat": 4,
  "nbformat_minor": 0,
  "metadata": {
    "kernelspec": {
      "display_name": "Python 3",
      "language": "python",
      "name": "python3"
    },
    "language_info": {
      "codemirror_mode": {
        "name": "ipython",
        "version": 3
      },
      "file_extension": ".py",
      "mimetype": "text/x-python",
      "name": "python",
      "nbconvert_exporter": "python",
      "pygments_lexer": "ipython3",
      "version": "3.7.6"
    },
    "colab": {
      "name": "Recommendation_system.ipynb",
      "provenance": [],
      "include_colab_link": true
    }
  },
  "cells": [
    {
      "cell_type": "markdown",
      "metadata": {
        "id": "view-in-github",
        "colab_type": "text"
      },
      "source": [
        "<a href=\"https://colab.research.google.com/github/Foutse/Recommendation_systems/blob/master/Recommendation_system.ipynb\" target=\"_parent\"><img src=\"https://colab.research.google.com/assets/colab-badge.svg\" alt=\"Open In Colab\"/></a>"
      ]
    },
    {
      "cell_type": "markdown",
      "metadata": {
        "id": "L8J_F4gaXeQ8",
        "colab_type": "text"
      },
      "source": [
        "Inspired from: https://heartbeat.fritz.ai/recommender-systems-with-python-part-i-content-based-filtering-5df4940bd831 "
      ]
    },
    {
      "cell_type": "code",
      "metadata": {
        "id": "o0Zw-SAOXeQ-",
        "colab_type": "code",
        "colab": {}
      },
      "source": [
        "import pandas as pd\n",
        "from sklearn.feature_extraction.text import TfidfVectorizer\n",
        "from sklearn.metrics.pairwise import linear_kernel \n"
      ],
      "execution_count": 4,
      "outputs": []
    },
    {
      "cell_type": "code",
      "metadata": {
        "id": "7dPVJhsRXeRD",
        "colab_type": "code",
        "colab": {}
      },
      "source": [
        "dataset = pd.read_csv(\"/sample-data.csv\")"
      ],
      "execution_count": 6,
      "outputs": []
    },
    {
      "cell_type": "markdown",
      "metadata": {
        "id": "7UeDmJAeXeRJ",
        "colab_type": "text"
      },
      "source": [
        "We start by creating a *TF-IDF* vectorizer, to weigh the keyword in any document and assign the importance to that keyword based on the number of times it appears in the doc.\n",
        "- TF(t) = (Number of times term t appears in a document) / (Total number of terms in the document).\n",
        "- IDF(t) = log_e(Total number of documents / Number of documents with term t in it)."
      ]
    },
    {
      "cell_type": "markdown",
      "metadata": {
        "id": "J2md5gRoXeRJ",
        "colab_type": "text"
      },
      "source": [
        "![Texte alternatif…](https://miro.medium.com/max/455/1*3Ig7VSgscBzXaYa0Q-UM1w.png)"
      ]
    },
    {
      "cell_type": "code",
      "metadata": {
        "id": "QjpjDcElXeRK",
        "colab_type": "code",
        "colab": {
          "base_uri": "https://localhost:8080/",
          "height": 343
        },
        "outputId": "434a26cd-ef06-4376-c3cd-c3fcf3170eda"
      },
      "source": [
        "dataset.head(10)"
      ],
      "execution_count": 8,
      "outputs": [
        {
          "output_type": "execute_result",
          "data": {
            "text/html": [
              "<div>\n",
              "<style scoped>\n",
              "    .dataframe tbody tr th:only-of-type {\n",
              "        vertical-align: middle;\n",
              "    }\n",
              "\n",
              "    .dataframe tbody tr th {\n",
              "        vertical-align: top;\n",
              "    }\n",
              "\n",
              "    .dataframe thead th {\n",
              "        text-align: right;\n",
              "    }\n",
              "</style>\n",
              "<table border=\"1\" class=\"dataframe\">\n",
              "  <thead>\n",
              "    <tr style=\"text-align: right;\">\n",
              "      <th></th>\n",
              "      <th>id</th>\n",
              "      <th>description</th>\n",
              "    </tr>\n",
              "  </thead>\n",
              "  <tbody>\n",
              "    <tr>\n",
              "      <th>0</th>\n",
              "      <td>1</td>\n",
              "      <td>Active classic boxers - There's a reason why o...</td>\n",
              "    </tr>\n",
              "    <tr>\n",
              "      <th>1</th>\n",
              "      <td>2</td>\n",
              "      <td>Active sport boxer briefs - Skinning up Glory ...</td>\n",
              "    </tr>\n",
              "    <tr>\n",
              "      <th>2</th>\n",
              "      <td>3</td>\n",
              "      <td>Active sport briefs - These superbreathable no...</td>\n",
              "    </tr>\n",
              "    <tr>\n",
              "      <th>3</th>\n",
              "      <td>4</td>\n",
              "      <td>Alpine guide pants - Skin in, climb ice, switc...</td>\n",
              "    </tr>\n",
              "    <tr>\n",
              "      <th>4</th>\n",
              "      <td>5</td>\n",
              "      <td>Alpine wind jkt - On high ridges, steep ice an...</td>\n",
              "    </tr>\n",
              "    <tr>\n",
              "      <th>5</th>\n",
              "      <td>6</td>\n",
              "      <td>Ascensionist jkt - Our most technical soft she...</td>\n",
              "    </tr>\n",
              "    <tr>\n",
              "      <th>6</th>\n",
              "      <td>7</td>\n",
              "      <td>Atom - A multitasker's cloud nine, the Atom pl...</td>\n",
              "    </tr>\n",
              "    <tr>\n",
              "      <th>7</th>\n",
              "      <td>8</td>\n",
              "      <td>Print banded betina btm - Our fullest coverage...</td>\n",
              "    </tr>\n",
              "    <tr>\n",
              "      <th>8</th>\n",
              "      <td>9</td>\n",
              "      <td>Baby micro d-luxe cardigan - Micro D-Luxe is a...</td>\n",
              "    </tr>\n",
              "    <tr>\n",
              "      <th>9</th>\n",
              "      <td>10</td>\n",
              "      <td>Baby sun bucket hat - This hat goes on when th...</td>\n",
              "    </tr>\n",
              "  </tbody>\n",
              "</table>\n",
              "</div>"
            ],
            "text/plain": [
              "   id                                        description\n",
              "0   1  Active classic boxers - There's a reason why o...\n",
              "1   2  Active sport boxer briefs - Skinning up Glory ...\n",
              "2   3  Active sport briefs - These superbreathable no...\n",
              "3   4  Alpine guide pants - Skin in, climb ice, switc...\n",
              "4   5  Alpine wind jkt - On high ridges, steep ice an...\n",
              "5   6  Ascensionist jkt - Our most technical soft she...\n",
              "6   7  Atom - A multitasker's cloud nine, the Atom pl...\n",
              "7   8  Print banded betina btm - Our fullest coverage...\n",
              "8   9  Baby micro d-luxe cardigan - Micro D-Luxe is a...\n",
              "9  10  Baby sun bucket hat - This hat goes on when th..."
            ]
          },
          "metadata": {
            "tags": []
          },
          "execution_count": 8
        }
      ]
    },
    {
      "cell_type": "markdown",
      "metadata": {
        "id": "11a6xPxZXeRO",
        "colab_type": "text"
      },
      "source": [
        "Scikit-learn’s *Tfidftransformer* and *Tfidfvectorizer* aim to do the same thing, which is to convert a collection of raw documents to a matrix of TF-IDF features. The main difference is that:\n",
        "- With *Tfidftransformer* you will systematically compute word counts using CountVectorizer and then compute the Inverse Document Frequency (IDF) values and only then compute the Tf-idf scores.\n",
        "\n",
        "- With *Tfidfvectorizer* on the contrary, you will do all three steps at once. Under the hood, it computes the word counts, IDF values, and Tf-idf scores all using the same dataset.\n"
      ]
    },
    {
      "cell_type": "markdown",
      "metadata": {
        "id": "chyAxVXjXeRP",
        "colab_type": "text"
      },
      "source": [
        "There are cases where you want to use *Tfidftransformer* over *Tfidfvectorizer* and it is sometimes not that obvious. Here is a general guideline:\n",
        "- If you need the term frequency (term count) vectors for different tasks, use *Tfidftransformer*.\n",
        "- If you need to compute tf-idf scores on documents within your “training” dataset, use *Tfidfvectorizer*\n",
        "- If you need to compute tf-idf scores on documents outside your “training” dataset, use either one, *both will work*."
      ]
    },
    {
      "cell_type": "code",
      "metadata": {
        "id": "YS98hRbDXeRQ",
        "colab_type": "code",
        "colab": {}
      },
      "source": [
        "tf = TfidfVectorizer(analyzer='word', ngram_range=(1, 3), min_df=0, stop_words='english')\n",
        "tfidf_matrix = tf.fit_transform(dataset['description'])"
      ],
      "execution_count": 9,
      "outputs": []
    },
    {
      "cell_type": "markdown",
      "metadata": {
        "id": "35n53XBKXeRU",
        "colab_type": "text"
      },
      "source": [
        "The tfidf_matrix is the matrix containing each word and its TF-IDF score with regard to each document, or item in this case."
      ]
    },
    {
      "cell_type": "markdown",
      "metadata": {
        "id": "4cn-C9_sXeRV",
        "colab_type": "text"
      },
      "source": [
        "## Vector space model"
      ]
    },
    {
      "cell_type": "markdown",
      "metadata": {
        "id": "Lv2V4aTUXeRV",
        "colab_type": "text"
      },
      "source": [
        "In the vector space model a document D is represented as an m-dimensional vector, where each dimension corresponds to a distinct term and m is the total number of terms used in the collection of documents. \n",
        "- Now, we have a representation of every item in terms of its description. \n",
        "- Next, we need to calculate the relevance or similarity of one document to another."
      ]
    },
    {
      "cell_type": "markdown",
      "metadata": {
        "id": "hU0-SRnfXeRW",
        "colab_type": "text"
      },
      "source": [
        "The user’s likes / dislikes / measures is calculated by taking the cosine of the angle between the user profile vector (Ui ) and the document vector; or in our case, the angle between two document vectors. A visual illustration can be better uderstood with the following image."
      ]
    },
    {
      "cell_type": "markdown",
      "metadata": {
        "id": "Jat2TkzmXeRX",
        "colab_type": "text"
      },
      "source": [
        "![Texte alternatif…](https://miro.medium.com/max/518/1*LWoRop9T6hC7zhi32UxhCQ.png)"
      ]
    },
    {
      "cell_type": "markdown",
      "metadata": {
        "id": "pFuZ9pGPXeRX",
        "colab_type": "text"
      },
      "source": [
        "- The value of *cosine* will increase as the angle between vectors decreases, which signifies more similarity.\n",
        "- The vectors are length-normalized, after which they become vectors of length 1."
      ]
    },
    {
      "cell_type": "markdown",
      "metadata": {
        "id": "3sXjxc2pXeRY",
        "colab_type": "text"
      },
      "source": [
        "## Calculating Cosine Similarity"
      ]
    },
    {
      "cell_type": "markdown",
      "metadata": {
        "id": "jh3PUMtNXeRZ",
        "colab_type": "text"
      },
      "source": [
        "![Texte alternatif…](https://miro.medium.com/max/871/1*Q4xQoV8k_7S7xB-NfvFdrw.png)"
      ]
    },
    {
      "cell_type": "markdown",
      "metadata": {
        "id": "MnK0hX9AXeRa",
        "colab_type": "text"
      },
      "source": [
        "We calculate the *cosine similarity* of each item with every other item in the dataset, and then arranged them according to their similarity with item i, and stored the values in results."
      ]
    },
    {
      "cell_type": "code",
      "metadata": {
        "id": "0XXP3yetXeRa",
        "colab_type": "code",
        "colab": {}
      },
      "source": [
        "cosine_similarities = linear_kernel(tfidf_matrix, tfidf_matrix)\n",
        "results = {}\n",
        "for idx, row in dataset.iterrows():\n",
        "    similar_indices = cosine_similarities[idx].argsort()[:-100:-1] \n",
        "    similar_items = [(cosine_similarities[idx][i], dataset['id'][i]) for i in similar_indices] \n",
        "    results[row['id']] = similar_items[1:]"
      ],
      "execution_count": 10,
      "outputs": []
    },
    {
      "cell_type": "markdown",
      "metadata": {
        "id": "VHX7IlMpXeRf",
        "colab_type": "text"
      },
      "source": [
        "## Making a recommendation"
      ]
    },
    {
      "cell_type": "markdown",
      "metadata": {
        "id": "1aU2NsMCXeRg",
        "colab_type": "text"
      },
      "source": [
        "Let's build a function that once we input an *item_id* and the number of recommendations that we want,*num*, and voilà! Our function collects the results[] corresponding to that *item_id*, and we get our recommendations on screen.\n",
        "![Texte alternatif…](https://miro.medium.com/max/1334/1*oYpMnPQFZaiZQizgVWBpoA.png)"
      ]
    },
    {
      "cell_type": "code",
      "metadata": {
        "id": "fEhw-uaaXeRh",
        "colab_type": "code",
        "colab": {}
      },
      "source": [
        "def item_is(id, data):\n",
        "    item = dataset.loc[data['id'] == id]['description'].tolist()[0].split(' - ')[0]\n",
        "    return item\n",
        "\n",
        "# Just reads the results out of the dictionary.\n",
        "def recommendation(item_id, num, data):\n",
        "    print(\"Recommending \" + str(num) + \" products similar to \" + item_is(item_id, data) + \"...\")   \n",
        "    print(\"-------\")\n",
        "    print(\"We get the following results:\")\n",
        "    print(\"-------\")\n",
        "    recs = results[item_id][:num]   \n",
        "    for rec in recs: \n",
        "        print(\"Recommended: \" + item_is(rec[1], data) + \" (with a score of:\" +      str(rec[0]) + \")\")"
      ],
      "execution_count": 11,
      "outputs": []
    },
    {
      "cell_type": "code",
      "metadata": {
        "id": "sNtAYCDSXeRk",
        "colab_type": "code",
        "colab": {
          "base_uri": "https://localhost:8080/",
          "height": 168
        },
        "outputId": "e86528ef-4188-4aa2-d230-39cf6ef82ad9"
      },
      "source": [
        "recommendation(item_id=11, num=5, data=dataset)"
      ],
      "execution_count": 12,
      "outputs": [
        {
          "output_type": "stream",
          "text": [
            "Recommending 5 products similar to Baby sunshade top...\n",
            "-------\n",
            "We get the following results:\n",
            "-------\n",
            "Recommended: Sunshade hoody (with a score of:0.21330296021085024)\n",
            "Recommended: Baby baggies apron dress (with a score of:0.10975311296284812)\n",
            "Recommended: Runshade t-shirt (with a score of:0.09988151262780731)\n",
            "Recommended: Runshade t-shirt (with a score of:0.09530698241688207)\n",
            "Recommended: Runshade top (with a score of:0.08510550093018411)\n"
          ],
          "name": "stdout"
        }
      ]
    },
    {
      "cell_type": "markdown",
      "metadata": {
        "id": "tvJ-7a9WXeRo",
        "colab_type": "text"
      },
      "source": [
        "## Analyzing the Results"
      ]
    },
    {
      "cell_type": "markdown",
      "metadata": {
        "id": "WRvxcN8lXeRp",
        "colab_type": "text"
      },
      "source": [
        "![Texte alternatif…](https://i2.wp.com/evidentiasoftware.com/wp-content/uploads/sites/2/2014/05/JobSeekingDescription_crop380w1.jpg?w=380&ssl=1)"
      ]
    },
    {
      "cell_type": "markdown",
      "metadata": {
        "id": "wL7DVg-NXeRp",
        "colab_type": "text"
      },
      "source": [
        "##### Advantages of Content Based Filtering"
      ]
    },
    {
      "cell_type": "markdown",
      "metadata": {
        "id": "drE-hoMWXeRq",
        "colab_type": "text"
      },
      "source": [
        "- *User independence:* This method only has to analyze the items and a single user’s profile for the recommendation, which makes the process less cumbersome. Thus produces more reliable results with fewer users in the system.\n",
        "- *Transparency:* Items are recommended on a feature-level basis.\n",
        "- *No cold start:* New items can be suggested before being rated by a substantial number of users."
      ]
    },
    {
      "cell_type": "markdown",
      "metadata": {
        "id": "Ou9MdvaiXeRr",
        "colab_type": "text"
      },
      "source": [
        "##### Disadvantages of Content Based Filtering"
      ]
    },
    {
      "cell_type": "markdown",
      "metadata": {
        "id": "aWtDT_drXeRs",
        "colab_type": "text"
      },
      "source": [
        "- *Limited content analysis:* If the content doesn’t contain enough information to discriminate the items precisely, the recommendation itself risks being imprecise.\n",
        "- *Over-specialization:* It provides a limited degree of novelty, since it has to match up the features of a user’s profile with available items. In the case of item-based filtering, only item profiles are created and users are suggested items similar to what they rate or search for, instead of their past history. A perfect content-based filtering system may suggest nothing unexpected or surprising."
      ]
    },
    {
      "cell_type": "markdown",
      "metadata": {
        "id": "mTFJ6zkHYB_L",
        "colab_type": "text"
      },
      "source": [
        "You now know how to make a fully-functional recommender system in Python with content-based filtering. More is yet to come ;)\n",
        "\n",
        "![Texte alternatif…](https://images.rapgenius.com/481633f1184fed769ed4f7aef5d5ff36.500x281x8.gif)\n"
      ]
    }
  ]
}